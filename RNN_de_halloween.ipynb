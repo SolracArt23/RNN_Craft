{
  "nbformat": 4,
  "nbformat_minor": 0,
  "metadata": {
    "colab": {
      "provenance": [],
      "collapsed_sections": [
        "dCpULCQ8TZDe",
        "ccu-N3bqW8vs",
        "Qp_fmrhxX-wm"
      ],
      "gpuType": "T4",
      "authorship_tag": "ABX9TyNPPhllKD+5Zc9X8gjEwj2D",
      "include_colab_link": true
    },
    "kernelspec": {
      "name": "python3",
      "display_name": "Python 3"
    },
    "language_info": {
      "name": "python"
    },
    "accelerator": "GPU"
  },
  "cells": [
    {
      "cell_type": "markdown",
      "metadata": {
        "id": "view-in-github",
        "colab_type": "text"
      },
      "source": [
        "<a href=\"https://colab.research.google.com/github/SolracArt23/RNN_Craft/blob/main/RNN_de_halloween.ipynb\" target=\"_parent\"><img src=\"https://colab.research.google.com/assets/colab-badge.svg\" alt=\"Open In Colab\"/></a>"
      ]
    },
    {
      "cell_type": "markdown",
      "source": [
        "# Modelo de RNN para la creacion de cuentos de terror\n",
        "****\n",
        "Este minimproyecto se enfoca en la creacion de un modelo RNN para la generacion de texto (*donde para ser mas especifico estamos hablando de crear cuentos de terror al estilo lovecraft*)\n",
        "\n",
        "Donde para ello hemos descargado en formato pdf un archivo el cual contiene 11 cuentos del autor H.P Lovecraft\n"
      ],
      "metadata": {
        "id": "8_4z2NbWRQ9Z"
      }
    },
    {
      "cell_type": "markdown",
      "source": [
        "Enlace del del cuento utilizado : https://cdn.pruebat.org/recursos/recursos/cuentos-Lovecraft.pdf\n"
      ],
      "metadata": {
        "id": "LEXBy28MRWzN"
      }
    },
    {
      "cell_type": "markdown",
      "source": [
        "## Creacion del Modelo **RNN-Carft**"
      ],
      "metadata": {
        "id": "dCpULCQ8TZDe"
      }
    },
    {
      "cell_type": "code",
      "source": [
        "! pip install pdfplumber"
      ],
      "metadata": {
        "colab": {
          "base_uri": "https://localhost:8080/"
        },
        "id": "0wlQ5uS4Uweu",
        "outputId": "d76bff68-74b9-47f1-e184-0ffc408d745a"
      },
      "execution_count": 1,
      "outputs": [
        {
          "output_type": "stream",
          "name": "stdout",
          "text": [
            "Collecting pdfplumber\n",
            "  Downloading pdfplumber-0.10.3-py3-none-any.whl (48 kB)\n",
            "\u001b[?25l     \u001b[90m━━━━━━━━━━━━━━━━━━━━━━━━━━━━━━━━━━━━━━━━\u001b[0m \u001b[32m0.0/49.0 kB\u001b[0m \u001b[31m?\u001b[0m eta \u001b[36m-:--:--\u001b[0m\r\u001b[2K     \u001b[90m━━━━━━━━━━━━━━━━━━━━━━━━━━━━━━━━━━━━━━━━\u001b[0m \u001b[32m49.0/49.0 kB\u001b[0m \u001b[31m1.7 MB/s\u001b[0m eta \u001b[36m0:00:00\u001b[0m\n",
            "\u001b[?25hCollecting pdfminer.six==20221105 (from pdfplumber)\n",
            "  Downloading pdfminer.six-20221105-py3-none-any.whl (5.6 MB)\n",
            "\u001b[2K     \u001b[90m━━━━━━━━━━━━━━━━━━━━━━━━━━━━━━━━━━━━━━━━\u001b[0m \u001b[32m5.6/5.6 MB\u001b[0m \u001b[31m45.8 MB/s\u001b[0m eta \u001b[36m0:00:00\u001b[0m\n",
            "\u001b[?25hRequirement already satisfied: Pillow>=9.1 in /usr/local/lib/python3.10/dist-packages (from pdfplumber) (9.4.0)\n",
            "Collecting pypdfium2>=4.18.0 (from pdfplumber)\n",
            "  Downloading pypdfium2-4.24.0-py3-none-manylinux_2_17_x86_64.whl (3.0 MB)\n",
            "\u001b[2K     \u001b[90m━━━━━━━━━━━━━━━━━━━━━━━━━━━━━━━━━━━━━━━━\u001b[0m \u001b[32m3.0/3.0 MB\u001b[0m \u001b[31m105.8 MB/s\u001b[0m eta \u001b[36m0:00:00\u001b[0m\n",
            "\u001b[?25hRequirement already satisfied: charset-normalizer>=2.0.0 in /usr/local/lib/python3.10/dist-packages (from pdfminer.six==20221105->pdfplumber) (3.3.2)\n",
            "Requirement already satisfied: cryptography>=36.0.0 in /usr/local/lib/python3.10/dist-packages (from pdfminer.six==20221105->pdfplumber) (41.0.5)\n",
            "Requirement already satisfied: cffi>=1.12 in /usr/local/lib/python3.10/dist-packages (from cryptography>=36.0.0->pdfminer.six==20221105->pdfplumber) (1.16.0)\n",
            "Requirement already satisfied: pycparser in /usr/local/lib/python3.10/dist-packages (from cffi>=1.12->cryptography>=36.0.0->pdfminer.six==20221105->pdfplumber) (2.21)\n",
            "Installing collected packages: pypdfium2, pdfminer.six, pdfplumber\n",
            "Successfully installed pdfminer.six-20221105 pdfplumber-0.10.3 pypdfium2-4.24.0\n"
          ]
        }
      ]
    },
    {
      "cell_type": "code",
      "source": [
        "import keras as kr\n",
        "import numpy as np\n",
        "import tensorflow as tf\n",
        "from google.colab import files\n",
        "# import os\n",
        "import pdfplumber as pdf\n",
        "import matplotlib.pyplot as plt"
      ],
      "metadata": {
        "id": "FhPXq9tJRQiI"
      },
      "execution_count": 2,
      "outputs": []
    },
    {
      "cell_type": "code",
      "source": [
        "print('Suba aqui el pdf Del cuento')\n",
        "files.upload()"
      ],
      "metadata": {
        "id": "vTCyCe4uTRzZ"
      },
      "execution_count": null,
      "outputs": []
    },
    {
      "cell_type": "markdown",
      "source": [
        "## Seccion 1: Mostrar el Cuento\n",
        "***\n",
        "**Objetivo**\n",
        "\n",
        "En esta seccion leeremos el *pdf* con python usando el modulo de *pdfplumber*, donde de manera analitica separaremos los distintos cuento con base a la pagina final de cada uno; esto estara presente en la varianle `Identidicador_cuento`.\n",
        "\n",
        "**¿Que esperar de esta seccion?**\n",
        "\n",
        "1. Al finalizar esta seccion tendremos un array con un shape (11,) correspondiente a los cuentos bajo el nombre de  la variable `libro`.\n",
        "\n",
        "2. Y con el fin de facilitar la identificacion de cada cuento crearemos un array bajo el nombre `titulares`."
      ],
      "metadata": {
        "id": "Bb4n_JJVT8Kx"
      }
    },
    {
      "cell_type": "code",
      "source": [
        "Identificador_cuento =['\\n3','\\n12','\\n26','\\n38','\\n48','\\n57','\\n90','\\n98','\\n110','\\n114','\\n141']"
      ],
      "metadata": {
        "id": "0swu8FJAY2wX"
      },
      "execution_count": 4,
      "outputs": []
    },
    {
      "cell_type": "code",
      "source": [
        "libro =[]\n",
        "cuento =[]\n",
        "\n",
        "with pdf.open('/content/cuentos-Lovecraft.pdf') as file:\n",
        "  repetidos =[]\n",
        "  for page in file.pages:\n",
        "    pagina = page.extract_text()\n",
        "    #Separar cuento de otro cuento\n",
        "    for separador in  Identificador_cuento:\n",
        "      if pagina[-4:].__contains__(separador) and not repetidos.__contains__(separador):\n",
        "        repetidos +=[separador]\n",
        "        libro+=[cuento]\n",
        "        cuento =[]\n",
        "\n",
        "    cuento +=[pagina]\n"
      ],
      "metadata": {
        "id": "AzT2ZIL1T_eR"
      },
      "execution_count": 5,
      "outputs": []
    },
    {
      "cell_type": "markdown",
      "source": [
        "1. Extraccion de cada cuento"
      ],
      "metadata": {
        "id": "7yNeZOEcAq2F"
      }
    },
    {
      "cell_type": "code",
      "source": [
        "len(libro)"
      ],
      "metadata": {
        "colab": {
          "base_uri": "https://localhost:8080/"
        },
        "id": "jcfCjUECeMb7",
        "outputId": "fd747475-4d40-45a2-dd26-05ee65f2ea5c"
      },
      "execution_count": 6,
      "outputs": [
        {
          "output_type": "execute_result",
          "data": {
            "text/plain": [
              "11"
            ]
          },
          "metadata": {},
          "execution_count": 6
        }
      ]
    },
    {
      "cell_type": "code",
      "source": [
        "#Extraccion de titulos\n",
        "titulares =[]\n",
        "for titulo in libro:\n",
        "  titular=''\n",
        "  for x in titulo[0]:\n",
        "    titular +=x\n",
        "    if  titular.__contains__('\\n'):\n",
        "      titulares +=[titular[:-1]]\n",
        "      break\n"
      ],
      "metadata": {
        "id": "XrO-4QhRgKxI"
      },
      "execution_count": 7,
      "outputs": []
    },
    {
      "cell_type": "markdown",
      "source": [
        "2. Extraccion del titulo de cada cuento"
      ],
      "metadata": {
        "id": "X9swfPdeAu1n"
      }
    },
    {
      "cell_type": "code",
      "source": [
        "titulares"
      ],
      "metadata": {
        "colab": {
          "base_uri": "https://localhost:8080/"
        },
        "id": "xKDe8lmKgrQL",
        "outputId": "0375b2c2-0590-4717-f431-4cd9b02e469b"
      },
      "execution_count": 8,
      "outputs": [
        {
          "output_type": "execute_result",
          "data": {
            "text/plain": [
              "['La llamada de Cthulhu',\n",
              " 'II. El informe del inspector Legrasse',\n",
              " 'III. La locura del mar',\n",
              " 'El alquimista',\n",
              " 'El caos reptante',\n",
              " 'El color que cayó del cielo',\n",
              " 'La bestia en la cueva',\n",
              " 'La tumba',\n",
              " 'Los gatos de Ulthar',\n",
              " 'Las ratas de las paredes']"
            ]
          },
          "metadata": {},
          "execution_count": 8
        }
      ]
    },
    {
      "cell_type": "markdown",
      "source": [
        "## Seccion 2: Creacion de diccionario\n",
        "****\n",
        "**Objetivo de esta seccion**\n",
        "\n",
        "Buscaremos crear dos diccionarios que no ayuden a traducir el texto a numero y de numero a texto\n",
        "\n",
        "**Que esperar de esta seccion**\n",
        " 1. Se crearan dos diciconarios bajo el nombre de `enteroAtexto`  que servira para traducir de numero a un caracter y el otro diccionario llamado `textoAentero` con la finalidad contraria."
      ],
      "metadata": {
        "id": "ccu-N3bqW8vs"
      }
    },
    {
      "cell_type": "code",
      "source": [
        "# Alfabeto español en mayúsculas y minúsculas\n",
        "abecedario_espanol = list(\"ABCDEFGHIJKLMNÑOPQRSTUVWXYZabcdefghijklmnñopqrstuvwxyz1234567890ÁÉÍÓÚáéíóú\")\n",
        "\n",
        "\n",
        "# Caracteres especiales comunes en Python\n",
        "caracteres_especiales = ['\\n', '\\t', '\\r', '\\b', '\\f', '\\\\', \"'\", '\"',',',':',';','.',' ']\n",
        "\n",
        "# Combinar ambas listas\n",
        "lista_completa = abecedario_espanol + caracteres_especiales\n",
        "\n",
        "# Imprimir la lista completa\n",
        "print(lista_completa)\n"
      ],
      "metadata": {
        "colab": {
          "base_uri": "https://localhost:8080/"
        },
        "id": "Ko0EeVulWkWR",
        "outputId": "8382cf6b-b845-4692-857b-2209d909868a"
      },
      "execution_count": 10,
      "outputs": [
        {
          "output_type": "stream",
          "name": "stdout",
          "text": [
            "['A', 'B', 'C', 'D', 'E', 'F', 'G', 'H', 'I', 'J', 'K', 'L', 'M', 'N', 'Ñ', 'O', 'P', 'Q', 'R', 'S', 'T', 'U', 'V', 'W', 'X', 'Y', 'Z', 'a', 'b', 'c', 'd', 'e', 'f', 'g', 'h', 'i', 'j', 'k', 'l', 'm', 'n', 'ñ', 'o', 'p', 'q', 'r', 's', 't', 'u', 'v', 'w', 'x', 'y', 'z', '1', '2', '3', '4', '5', '6', '7', '8', '9', '0', 'Á', 'É', 'Í', 'Ó', 'Ú', 'á', 'é', 'í', 'ó', 'ú', '\\n', '\\t', '\\r', '\\x08', '\\x0c', '\\\\', \"'\", '\"', ',', ':', ';', '.', ' ']\n"
          ]
        }
      ]
    },
    {
      "cell_type": "code",
      "source": [
        "textoAentero ={}\n",
        "enteroAtexto ={}\n",
        "\n",
        "for numero,caracter in enumerate(lista_completa):\n",
        "  textoAentero.setdefault(caracter,numero)\n",
        "  enteroAtexto.setdefault(numero,caracter)"
      ],
      "metadata": {
        "id": "4Bdph0YjXJ-U"
      },
      "execution_count": 11,
      "outputs": []
    },
    {
      "cell_type": "markdown",
      "source": [
        "## Seccion 3: Traducir el libro a numeros\n",
        "****\n",
        "**Objetivo de esta seccion**\n",
        "\n",
        "En esta seccion evaluaremos que cuento a usar para entrenar nuestro modelo, donde a su vez crearemos dos funciones que nos permitan hacer uso de los diccionario creados previamente.\n",
        "\n",
        "**¿Que esperar de esta seccion?**\n",
        "1. Una grafica de analisis de la cantidad de paginas de c cada cuento\n",
        "2. Dos funciones con la finalidad de traducir textos a numeros y una funcion contraria cuyos nombres seran `Traducir_texto_a_numero` y `Traducir_numero_a_texto`.\n",
        "3. Traducir el cuento seleccionado bajo el nombre de `libro_numerico`"
      ],
      "metadata": {
        "id": "Qp_fmrhxX-wm"
      }
    },
    {
      "cell_type": "markdown",
      "source": [
        "Analisis de cantidad de paginas"
      ],
      "metadata": {
        "id": "zihIiCmNCTIu"
      }
    },
    {
      "cell_type": "code",
      "source": [
        "plt.barh(titulares,[len(x) for x in libro[1:]],)\n",
        "plt.xlabel('cantidad de paginas')\n",
        "plt.ylabel('Nombre del cuento')\n",
        "plt.title('Identificando logintud de los cuentos')"
      ],
      "metadata": {
        "colab": {
          "base_uri": "https://localhost:8080/",
          "height": 489
        },
        "id": "Z8dyN6WsYLH_",
        "outputId": "c3f30dd8-b900-4b2b-9dce-5a602b390ea5"
      },
      "execution_count": 12,
      "outputs": [
        {
          "output_type": "execute_result",
          "data": {
            "text/plain": [
              "Text(0.5, 1.0, 'Identificando logintud de los cuentos')"
            ]
          },
          "metadata": {},
          "execution_count": 12
        },
        {
          "output_type": "display_data",
          "data": {
            "text/plain": [
              "<Figure size 640x480 with 1 Axes>"
            ],
            "image/png": "[encoded data removed]"
          },
          "metadata": {}
        }
      ]
    },
    {
      "cell_type": "markdown",
      "source": [
        "**Nota:** En este caso escogeremos el texto mas extenso con el fin de tener mas caracteres, por ello el cuento a escoger sera *El color que cayo del cielo*"
      ],
      "metadata": {
        "id": "22loMrjcjNVU"
      }
    },
    {
      "cell_type": "code",
      "source": [
        "def Traducir_texto_a_numero(texto):\n",
        "    traduccion =[]\n",
        "    for palabra in texto:\n",
        "      for caracter in palabra:\n",
        "        try:\n",
        "          traduccion +=[textoAentero[caracter]]\n",
        "        except:\n",
        "          traduccion +=[textoAentero[' ']]\n",
        "\n",
        "    return traduccion\n",
        "\n",
        "def Traducir_numero_a_texto(texto):\n",
        "    traduccion =[]\n",
        "    for caracter in texto:\n",
        "      try:\n",
        "        traduccion +=[enteroAtexto[caracter]]\n",
        "      except:\n",
        "        traduccion +=[enteroAtexto[86]]\n",
        "\n",
        "    return traduccion\n",
        "\n"
      ],
      "metadata": {
        "id": "NysrYo0ziwem"
      },
      "execution_count": 13,
      "outputs": []
    },
    {
      "cell_type": "markdown",
      "source": [
        "### Testeo de la funcion\n",
        "*****"
      ],
      "metadata": {
        "id": "iLcpfT4flz0g"
      }
    },
    {
      "cell_type": "code",
      "source": [
        "prueba = Traducir_texto_a_numero('Hola esto es una prueba')\n",
        "print(prueba)\n",
        "prueba2 = Traducir_numero_a_texto(prueba)\n",
        "print(''.join(prueba2))"
      ],
      "metadata": {
        "colab": {
          "base_uri": "https://localhost:8080/"
        },
        "id": "0WGh42ZFlLyF",
        "outputId": "a69f5fea-5474-4976-876b-2d6056310094"
      },
      "execution_count": 14,
      "outputs": [
        {
          "output_type": "stream",
          "name": "stdout",
          "text": [
            "[7, 42, 38, 27, 86, 31, 46, 47, 42, 86, 31, 46, 86, 48, 40, 27, 86, 43, 45, 48, 31, 28, 27]\n",
            "Hola esto es una prueba\n"
          ]
        }
      ]
    },
    {
      "cell_type": "markdown",
      "source": [
        "### Traduccion del libro\n",
        "*****"
      ],
      "metadata": {
        "id": "kzaOPFKcl31I"
      }
    },
    {
      "cell_type": "code",
      "source": [
        "libro_numerico = Traducir_texto_a_numero(libro[6])\n",
        "texto = Traducir_numero_a_texto(libro_numerico)"
      ],
      "metadata": {
        "id": "EzywplMvlyGy"
      },
      "execution_count": 15,
      "outputs": []
    },
    {
      "cell_type": "markdown",
      "source": [
        "## Seccion 4: Divicion de datos\n",
        "***\n",
        "**Objetivo de esta seccion**\n",
        "1. El objetivo de esta seccion es dividir la lista `libro_numerico` a *100* parrafos dentro de un tensor, que nor serviran como dataset; a su vez agregaremos otra lista con  una funcion  que se encargara de correr los parrafos un caracter; de tal forma que la nueva lista quede con un *shape (100,), (100,)* referente a los grupos de parrafos creados.\n",
        "\n",
        "2. Con el tensor creado agregaremos una dimension extra la cual nos ayudara con los *memory cell*  del los LSTM de nuestro modelo, en conclusio se esperara tener un dataset con un sahpe de *(1,100) (1,100)*.\n",
        "\n",
        "**¿Que se esperar de esta seccion?**\n",
        "1. Creacion del tensor `dataset`\n",
        "2. Creacion de la funcion para mover un caracter los parrfaos bajo el nombre de `Mover_una_posicion`.\n",
        "3. Division del texto en parrafos y creacion de un gupo similar conun carcter corrido.\n",
        "4. Creacion de una nueva dimension en el dataset referente a los *memory cell*\n",
        "\n"
      ],
      "metadata": {
        "id": "nRoyHMK5qT6p"
      }
    },
    {
      "cell_type": "markdown",
      "source": [
        "Creacion de tensores para los parrafos\n",
        "***"
      ],
      "metadata": {
        "id": "TvQsCimYCSvy"
      }
    },
    {
      "cell_type": "code",
      "source": [
        "char_dataset= tf.data.Dataset.from_tensor_slices(libro_numerico)\n",
        "seq_logitud = 100\n",
        "sequence = char_dataset.batch(seq_logitud+1,drop_remainder=True)"
      ],
      "metadata": {
        "id": "ARxlDWarCXvl"
      },
      "execution_count": 16,
      "outputs": []
    },
    {
      "cell_type": "code",
      "source": [
        "for items in sequence.take(10):\n",
        "    print(''.join(Traducir_numero_a_texto(items.numpy())))"
      ],
      "metadata": {
        "colab": {
          "base_uri": "https://localhost:8080/"
        },
        "id": "hLomv82rDPCG",
        "outputId": "62036323-d2c1-4303-ceb3-57d8ca924299"
      },
      "execution_count": 17,
      "outputs": [
        {
          "output_type": "stream",
          "name": "stdout",
          "text": [
            "El color que cayó del cielo\n",
            "Al Oeste de Arkham las colinas se yerguen selváticas, y hay valles con\n",
            "pr\n",
            "ofundos bosques, en los cuales no ha resonado nunca el ruido de un\n",
            "hacha. Hay angostas y oscuras caña\n",
            "das donde los árboles se inclinan\n",
            "fantásticamente, y donde discurren estrechos arroyuelos que nunca h\n",
            "an\n",
            "captado el reflejo de la luz del sol. En las laderas menos agrestes hay\n",
            "casas de labor, antiguas y\n",
            " rocosas, con edificaciones cubiertas de musgo,\n",
            "rumiando eternamente en los misterios de la Nueva Ing\n",
            "laterra; pero\n",
            "todas ellas están ahora vacías, con las amplias chimeneas\n",
            "desmoronándose y las paredes \n",
            "pandeándose debajo de los techos a la\n",
            "holandesa.\n",
            "Sus antiguos moradores se marcharon, y a los extranj\n",
            "erosno les gusta\n",
            "vivir allí. Los francocanadienses lo han intentado, los italianos lo han\n",
            "intentado, \n",
            "y los polacos llegaron y se marcharon. Y ello no es debido a\n",
            "nada que pueda ser oído, o visto, o toca\n",
            "do, sino a causa de algo\n",
            "puramente imaginario. El lugar no es bueno para la imaginación, y no\n",
            "aporta \n"
          ]
        }
      ]
    },
    {
      "cell_type": "code",
      "source": [
        "def Mover_una_posicion(chunk):\n",
        "  input_text = chunk[:-1]\n",
        "  target_text=chunk[1:]\n",
        "  return input_text,target_text"
      ],
      "metadata": {
        "id": "ph1o9DmfEpdo"
      },
      "execution_count": 18,
      "outputs": []
    },
    {
      "cell_type": "code",
      "source": [
        "dataset = sequence.map(Mover_una_posicion)\n",
        "print(dataset)"
      ],
      "metadata": {
        "colab": {
          "base_uri": "https://localhost:8080/"
        },
        "id": "xXXyZiBPESSi",
        "outputId": "2ae3a781-c74e-458b-8200-de89f36a06ff"
      },
      "execution_count": 19,
      "outputs": [
        {
          "output_type": "stream",
          "name": "stdout",
          "text": [
            "<_MapDataset element_spec=(TensorSpec(shape=(100,), dtype=tf.int32, name=None), TensorSpec(shape=(100,), dtype=tf.int32, name=None))>\n"
          ]
        }
      ]
    },
    {
      "cell_type": "code",
      "source": [
        "for input_t,target_t in dataset.take(1):\n",
        "  print(f\"texto de entrada: {''.join(Traducir_numero_a_texto(input_t.numpy()))}\")\n",
        "  print('\\n')\n",
        "  print(f\"Text objetivo:{''.join(Traducir_numero_a_texto(target_t.numpy()))}\")"
      ],
      "metadata": {
        "colab": {
          "base_uri": "https://localhost:8080/"
        },
        "id": "LZj_H-xRFWF-",
        "outputId": "2dc96032-c9f1-4728-f718-ccd52c515ec9"
      },
      "execution_count": 20,
      "outputs": [
        {
          "output_type": "stream",
          "name": "stdout",
          "text": [
            "texto de entrada: El color que cayó del cielo\n",
            "Al Oeste de Arkham las colinas se yerguen selváticas, y hay valles con\n",
            "p\n",
            "\n",
            "\n",
            "Text objetivo:l color que cayó del cielo\n",
            "Al Oeste de Arkham las colinas se yerguen selváticas, y hay valles con\n",
            "pr\n"
          ]
        }
      ]
    },
    {
      "cell_type": "code",
      "source": [
        "print(dataset)"
      ],
      "metadata": {
        "colab": {
          "base_uri": "https://localhost:8080/"
        },
        "id": "7FmZkUAOF-N2",
        "outputId": "96fcbba0-1744-475a-834e-216767b28480"
      },
      "execution_count": 21,
      "outputs": [
        {
          "output_type": "stream",
          "name": "stdout",
          "text": [
            "<_MapDataset element_spec=(TensorSpec(shape=(100,), dtype=tf.int32, name=None), TensorSpec(shape=(100,), dtype=tf.int32, name=None))>\n"
          ]
        }
      ]
    },
    {
      "cell_type": "markdown",
      "source": [
        "Creacion de la nueva dimension\n",
        "******"
      ],
      "metadata": {
        "id": "Fk-VeSluGW3s"
      }
    },
    {
      "cell_type": "code",
      "source": [
        "Batch_size=1\n",
        "Buffer_size=1000\n",
        "dataset = dataset.shuffle(Buffer_size).batch(Batch_size,drop_remainder=True)"
      ],
      "metadata": {
        "id": "mLByzC5NGNzF"
      },
      "execution_count": 22,
      "outputs": []
    },
    {
      "cell_type": "markdown",
      "source": [
        "**Nota:** Se puede cambiar el *batch_size* a un valor distinto a uno y esto ayudara generar mas memory cell cuando se cree el modelo, sin embargo, se deberar tener en cuenta que cada dimension es como un parrafo entonces si por ejemplo se tiene un *batch_size* de 10 se esperaran diez palabras en vez de una."
      ],
      "metadata": {
        "id": "wetTwEoSGZ__"
      }
    },
    {
      "cell_type": "code",
      "source": [
        "print(dataset)"
      ],
      "metadata": {
        "colab": {
          "base_uri": "https://localhost:8080/"
        },
        "id": "G78w6Y4jGhsg",
        "outputId": "03516bca-db25-4a4c-8d30-cb4531aeafce"
      },
      "execution_count": 23,
      "outputs": [
        {
          "output_type": "stream",
          "name": "stdout",
          "text": [
            "<_BatchDataset element_spec=(TensorSpec(shape=(1, 100), dtype=tf.int32, name=None), TensorSpec(shape=(1, 100), dtype=tf.int32, name=None))>\n"
          ]
        }
      ]
    },
    {
      "cell_type": "markdown",
      "source": [
        "## Seccion 5: Creacion del modelo\n",
        "****\n",
        "**Objetivo de esta seccion**\n",
        "\n",
        "En esta seccion crearemos el modelo haciendo uso de del LSTM y los Embedding, donde esperaremos una entrada del tipo *(1,None)* donde en palabras simple, estamos hablando de que esperamos una palabra (o frase) con x cantidad de caracteres y de salida obtendremos *(1,None,87)* lo que significa que tendremos un frase o parrafo de x cantidad de caracteres y su respectivo diccionario de 87 caracteres traucidos.\n",
        "\n",
        "**¿Que se espera de esta seccion?**\n",
        "1. La creacion del modelo `RNN_Craft`\n",
        "2. la compilacion del modelo\n",
        "3. el entrenamiento del modelo"
      ],
      "metadata": {
        "id": "pjHFlOkdGn17"
      }
    },
    {
      "cell_type": "code",
      "source": [
        "RNN_Carft = kr.Sequential([\n",
        "    kr.layers.Embedding(len(enteroAtexto),256,batch_input_shape=[Batch_size,None]),\n",
        "    kr.layers.LSTM(1024,return_sequences=True,stateful=True,recurrent_initializer='glorot_uniform'),\n",
        "    kr.layers.Dense(len(enteroAtexto))\n",
        "])\n",
        "\n",
        "kr.utils.plot_model(RNN_Carft,show_shapes=True)"
      ],
      "metadata": {
        "colab": {
          "base_uri": "https://localhost:8080/",
          "height": 422
        },
        "id": "6WLR7WCZGr79",
        "outputId": "31bbb440-f5b6-4e5c-98fa-ca831e57d9af"
      },
      "execution_count": 35,
      "outputs": [
        {
          "output_type": "execute_result",
          "data": {
            "image/png": "[encoded data removed]",
            "text/plain": [
              "<IPython.core.display.Image object>"
            ]
          },
          "metadata": {},
          "execution_count": 35
        }
      ]
    },
    {
      "cell_type": "code",
      "source": [
        "kr.layesr"
      ],
      "metadata": {
        "id": "XQH4cwozKJZH"
      },
      "execution_count": null,
      "outputs": []
    },
    {
      "cell_type": "markdown",
      "source": [
        "**Nota:** ahora definiremos los atributos presentes en el modelo, por cada una de las capas.\n",
        "\n",
        "**Embedding:**\n",
        "*****\n",
        "1. `batch_input_shape` es la variable que define la dimensiones de un espacio extra, donde se almacenra informacion creada por la red neuronal; para este caso nos serivra para definir el espacio de las *memory cell*.\n",
        "\n",
        "2. `input_dim` Hace referencia al numero total de caracteres presente en el diccionario ( *que en nuestro caso es `enteroAtexto`*)\n",
        "\n",
        "3. `units` Numero de neuronas para el embedding\n",
        "\n",
        "**LSTM**\n",
        "****\n",
        "1. `units` es la catidad de neuronas de LSTM\n",
        "2. `return_sequences` hace refrencia de que si es necesario tener encuenta TODOS los datos que han pasado por la neurona\n",
        "3. `recurrent_initializer` es la forma de definir los pesos segun una dsitribucion\n",
        "3. `stateful` hace referencia al uso de *memory cell*, en este caso nos refiera que si hay espacio para el almacen de cada dato (*para nuestro caso tenermos un memory cell de 1 para cada caracter, el cual es el que hemos definimos en el embedding [`batch_input_shape`]*)  \n",
        "\n"
      ],
      "metadata": {
        "id": "6FkwUNBUJSOt"
      }
    },
    {
      "cell_type": "code",
      "source": [
        "#compilacion\n",
        "def Loss(label,logit):\n",
        "  return kr.losses.sparse_categorical_crossentropy(label,logit,from_logits=True)"
      ],
      "metadata": {
        "id": "_Ba8BhpXJS_W"
      },
      "execution_count": 36,
      "outputs": []
    },
    {
      "cell_type": "markdown",
      "source": [
        "**Nota 2:** Para este caso dado que el modelo esta prediciendo cual es el caracter posterior dentro de una posibilidad de 87 caracteres usaremos la metrica de perdida de *sparse categorical crossentropy*; no obstante, esta metrica esperara variables entre 1 y 0, y nuestro modelo regresa variables entre 0 y 87, para ello usamos el atributo `from_logits` que nos permite evaluar numeros naturales"
      ],
      "metadata": {
        "id": "zB2pjBvlMgWT"
      }
    },
    {
      "cell_type": "code",
      "source": [
        "RNN_Carft.compile('adam',loss=Loss)"
      ],
      "metadata": {
        "id": "2S-1vtA-J29g"
      },
      "execution_count": 37,
      "outputs": []
    },
    {
      "cell_type": "code",
      "source": [
        "hist =RNN_Carft.fit(dataset,epochs=50,verbose=2)"
      ],
      "metadata": {
        "colab": {
          "base_uri": "https://localhost:8080/"
        },
        "id": "_4pRvfSwJ9UB",
        "outputId": "0fa8564d-8f0a-48a3-e014-ed3fec0b5bf6"
      },
      "execution_count": 38,
      "outputs": [
        {
          "output_type": "stream",
          "name": "stdout",
          "text": [
            "Epoch 1/50\n",
            "714/714 - 18s - loss: 2.3254 - 18s/epoch - 26ms/step\n",
            "Epoch 2/50\n",
            "714/714 - 15s - loss: 1.8480 - 15s/epoch - 22ms/step\n",
            "Epoch 3/50\n",
            "714/714 - 15s - loss: 1.5973 - 15s/epoch - 21ms/step\n",
            "Epoch 4/50\n",
            "714/714 - 16s - loss: 1.4184 - 16s/epoch - 22ms/step\n",
            "Epoch 5/50\n",
            "714/714 - 15s - loss: 1.2803 - 15s/epoch - 21ms/step\n",
            "Epoch 6/50\n",
            "714/714 - 15s - loss: 1.1612 - 15s/epoch - 21ms/step\n",
            "Epoch 7/50\n",
            "714/714 - 16s - loss: 1.0482 - 16s/epoch - 22ms/step\n",
            "Epoch 8/50\n",
            "714/714 - 16s - loss: 0.9338 - 16s/epoch - 23ms/step\n",
            "Epoch 9/50\n",
            "714/714 - 15s - loss: 0.8236 - 15s/epoch - 21ms/step\n",
            "Epoch 10/50\n",
            "714/714 - 15s - loss: 0.7159 - 15s/epoch - 22ms/step\n",
            "Epoch 11/50\n",
            "714/714 - 16s - loss: 0.6195 - 16s/epoch - 22ms/step\n",
            "Epoch 12/50\n",
            "714/714 - 16s - loss: 0.5302 - 16s/epoch - 22ms/step\n",
            "Epoch 13/50\n",
            "714/714 - 15s - loss: 0.4642 - 15s/epoch - 21ms/step\n",
            "Epoch 14/50\n",
            "714/714 - 15s - loss: 0.4075 - 15s/epoch - 21ms/step\n",
            "Epoch 15/50\n",
            "714/714 - 15s - loss: 0.3618 - 15s/epoch - 21ms/step\n",
            "Epoch 16/50\n",
            "714/714 - 16s - loss: 0.3319 - 16s/epoch - 22ms/step\n",
            "Epoch 17/50\n",
            "714/714 - 16s - loss: 0.3083 - 16s/epoch - 22ms/step\n",
            "Epoch 18/50\n",
            "714/714 - 15s - loss: 0.2903 - 15s/epoch - 22ms/step\n",
            "Epoch 19/50\n",
            "714/714 - 15s - loss: 0.2760 - 15s/epoch - 21ms/step\n",
            "Epoch 20/50\n",
            "714/714 - 15s - loss: 0.2617 - 15s/epoch - 21ms/step\n",
            "Epoch 21/50\n",
            "714/714 - 15s - loss: 0.2555 - 15s/epoch - 21ms/step\n",
            "Epoch 22/50\n",
            "714/714 - 15s - loss: 0.2454 - 15s/epoch - 22ms/step\n",
            "Epoch 23/50\n",
            "714/714 - 16s - loss: 0.2460 - 16s/epoch - 22ms/step\n",
            "Epoch 24/50\n",
            "714/714 - 16s - loss: 0.2371 - 16s/epoch - 22ms/step\n",
            "Epoch 25/50\n",
            "714/714 - 15s - loss: 0.2337 - 15s/epoch - 21ms/step\n",
            "Epoch 26/50\n",
            "714/714 - 15s - loss: 0.2268 - 15s/epoch - 21ms/step\n",
            "Epoch 27/50\n",
            "714/714 - 15s - loss: 0.2245 - 15s/epoch - 21ms/step\n",
            "Epoch 28/50\n",
            "714/714 - 15s - loss: 0.2246 - 15s/epoch - 21ms/step\n",
            "Epoch 29/50\n",
            "714/714 - 15s - loss: 0.2231 - 15s/epoch - 21ms/step\n",
            "Epoch 30/50\n",
            "714/714 - 15s - loss: 0.2210 - 15s/epoch - 21ms/step\n",
            "Epoch 31/50\n",
            "714/714 - 15s - loss: 0.2212 - 15s/epoch - 21ms/step\n",
            "Epoch 32/50\n",
            "714/714 - 15s - loss: 0.2157 - 15s/epoch - 21ms/step\n",
            "Epoch 33/50\n",
            "714/714 - 15s - loss: 0.2183 - 15s/epoch - 22ms/step\n",
            "Epoch 34/50\n",
            "714/714 - 15s - loss: 0.2140 - 15s/epoch - 21ms/step\n",
            "Epoch 35/50\n",
            "714/714 - 15s - loss: 0.2112 - 15s/epoch - 22ms/step\n",
            "Epoch 36/50\n",
            "714/714 - 16s - loss: 0.2094 - 16s/epoch - 22ms/step\n",
            "Epoch 37/50\n",
            "714/714 - 15s - loss: 0.2089 - 15s/epoch - 21ms/step\n",
            "Epoch 38/50\n",
            "714/714 - 15s - loss: 0.2087 - 15s/epoch - 21ms/step\n",
            "Epoch 39/50\n",
            "714/714 - 15s - loss: 0.2066 - 15s/epoch - 22ms/step\n",
            "Epoch 40/50\n",
            "714/714 - 16s - loss: 0.2099 - 16s/epoch - 22ms/step\n",
            "Epoch 41/50\n",
            "714/714 - 15s - loss: 0.2115 - 15s/epoch - 21ms/step\n",
            "Epoch 42/50\n",
            "714/714 - 15s - loss: 0.2140 - 15s/epoch - 21ms/step\n",
            "Epoch 43/50\n",
            "714/714 - 15s - loss: 0.2131 - 15s/epoch - 22ms/step\n",
            "Epoch 44/50\n",
            "714/714 - 15s - loss: 0.2136 - 15s/epoch - 22ms/step\n",
            "Epoch 45/50\n",
            "714/714 - 15s - loss: 0.2056 - 15s/epoch - 21ms/step\n",
            "Epoch 46/50\n",
            "714/714 - 15s - loss: 0.2074 - 15s/epoch - 21ms/step\n",
            "Epoch 47/50\n",
            "714/714 - 15s - loss: 0.2083 - 15s/epoch - 22ms/step\n",
            "Epoch 48/50\n",
            "714/714 - 15s - loss: 0.2104 - 15s/epoch - 21ms/step\n",
            "Epoch 49/50\n",
            "714/714 - 15s - loss: 0.2175 - 15s/epoch - 21ms/step\n",
            "Epoch 50/50\n",
            "714/714 - 15s - loss: 0.2177 - 15s/epoch - 21ms/step\n"
          ]
        }
      ]
    },
    {
      "cell_type": "markdown",
      "source": [
        "## Seccion 6: Testear el modelo\n",
        "***\n",
        "implementa una función para generar texto utilizando un modelo de lenguaje. Dado un modelo, una palabra inicial y parámetros como temperatura, produce una secuencia de texto concatenada a la palabra inicial. Utiliza la predicción del modelo y la aleatoriedad para diversificar la generación.\n",
        "\n"
      ],
      "metadata": {
        "id": "PZSHTWpjLZJG"
      }
    },
    {
      "cell_type": "code",
      "source": [
        "def Generar_texto(modelo,Palabra,caracteres_max_generados=500,temperatura=0.5):\n",
        "\n",
        "  input_eval = Traducir_texto_a_numero(Palabra)\n",
        "  input_eval=tf.expand_dims(input_eval,0)\n",
        "\n",
        "  texto_generado =[]\n",
        "  modelo.reset_states()\n",
        "  for i in range(caracteres_max_generados):\n",
        "      prediccion = modelo(input_eval)\n",
        "\n",
        "      prediccion = tf.squeeze(prediccion,0)\n",
        "      prediccion = prediccion/temperatura\n",
        "      prediccion_id = tf.random.categorical(prediccion,num_samples=1)[-1,0].numpy()\n",
        "\n",
        "      #Agregar el nuevo caracter\n",
        "      input_eval=tf.expand_dims([prediccion_id],0)\n",
        "      texto_generado +=[enteroAtexto[prediccion_id]]\n",
        "\n",
        "  return (Palabra +''.join(texto_generado))\n",
        "\n",
        "\n",
        "\n"
      ],
      "metadata": {
        "id": "QScEEiSgLggR"
      },
      "execution_count": 31,
      "outputs": []
    },
    {
      "cell_type": "code",
      "source": [
        "Generar_texto(RNN_Carft,'Era de noche  y yo veia  ',temperatura=0.55,caracteres_max_generados=100)"
      ],
      "metadata": {
        "colab": {
          "base_uri": "https://localhost:8080/",
          "height": 36
        },
        "id": "nYnvPIdrL9cT",
        "outputId": "2800e148-67ec-40a0-d13d-36614f963332"
      },
      "execution_count": 43,
      "outputs": [
        {
          "output_type": "execute_result",
          "data": {
            "text/plain": [
              "'Era de noche  y yo veia  Dios mío   Qué antigua era la casa  La mayor parte\\nde ella edificada a\\nla granja presencia una para '"
            ],
            "application/vnd.google.colaboratory.intrinsic+json": {
              "type": "string"
            }
          },
          "metadata": {},
          "execution_count": 43
        }
      ]
    },
    {
      "cell_type": "markdown",
      "source": [
        "## Seccion 7: Guardar el modelo\n",
        "****\n",
        "En esta seccion guardaremos el modelo en un archivo .h5 y el el diccionario en un .json"
      ],
      "metadata": {
        "id": "FrjXn7wbQ3al"
      }
    },
    {
      "cell_type": "code",
      "source": [
        "! mkdir Modelo_Guardado"
      ],
      "metadata": {
        "id": "V08VNqdeTBc5"
      },
      "execution_count": 49,
      "outputs": []
    },
    {
      "cell_type": "code",
      "source": [
        "RNN_Carft.save('Modelo_Guardado/Rnn_craft.h5')"
      ],
      "metadata": {
        "colab": {
          "base_uri": "https://localhost:8080/"
        },
        "id": "BgHOanIfRFBj",
        "outputId": "18141dcf-375c-4ae7-8312-bee95093da13"
      },
      "execution_count": 50,
      "outputs": [
        {
          "output_type": "stream",
          "name": "stderr",
          "text": [
            "/usr/local/lib/python3.10/dist-packages/keras/src/engine/training.py:3079: UserWarning: You are saving your model as an HDF5 file via `model.save()`. This file format is considered legacy. We recommend using instead the native Keras format, e.g. `model.save('my_model.keras')`.\n",
            "  saving_api.save_model(\n"
          ]
        }
      ]
    },
    {
      "cell_type": "code",
      "source": [
        "import json\n",
        "\n",
        "with open('Modelo_Guardado/numero_a_texto.json','w') as file:\n",
        "  json.dump(enteroAtexto,file)\n",
        "\n",
        "\n",
        "\n",
        "with open('Modelo_Guardado/texto_a_numero.json','w') as file:\n",
        "  json.dump(textoAentero,file)"
      ],
      "metadata": {
        "id": "QfoY4e4iRQI7"
      },
      "execution_count": 51,
      "outputs": []
    }
  ]
}